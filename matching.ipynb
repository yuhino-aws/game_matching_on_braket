{
 "cells": [
  {
   "cell_type": "code",
   "execution_count": null,
   "id": "ccd14e16-0eb3-4f3c-846a-15f1af5ee6aa",
   "metadata": {
    "tags": []
   },
   "outputs": [],
   "source": [
    "%pip uninstall -y qiskit-terra\n",
    "%pip uninstall -y qiskit\n",
    "%pip install --upgrade qiskit\n",
    "%pip install --upgrade qiskit-optimization\n",
    "%pip install --upgrade qiskit-algorithms\n",
    "%pip install --upgrade qiskit-visualization\n",
    "%pip install --upgrade pyqubo\n",
    "%pip install --upgrade numpy as np\n",
    "%pip install --upgrade "
   ]
  },
  {
   "cell_type": "code",
   "execution_count": null,
   "id": "41482888-94e6-472d-8a8c-678a9881d7c9",
   "metadata": {
    "tags": []
   },
   "outputs": [],
   "source": [
    "import numpy as np\n",
    "from pyqubo import Array\n",
    "from typing import List, Tuple\n",
    "from collections import defaultdict\n",
    "\n",
    "from qiskit_algorithms.utils import algorithm_globals\n",
    "from qiskit_optimization import QuadraticProgram\n",
    "from qiskit_algorithms import QAOA, NumPyMinimumEigensolver\n",
    "from qiskit_algorithms.optimizers import COBYLA\n",
    "from qiskit_optimization.algorithms import MinimumEigenOptimizer\n",
    "from qiskit.primitives import BackendSampler\n",
    "from qiskit_braket_provider import BraketProvider"
   ]
  },
  {
   "cell_type": "code",
   "execution_count": null,
   "id": "52e17330-5e48-4a66-b507-33a0fff7b865",
   "metadata": {
    "tags": []
   },
   "outputs": [],
   "source": [
    "from qiskit.visualization import plot_state_qsphere"
   ]
  },
  {
   "cell_type": "code",
   "execution_count": 20,
   "id": "4be6ae2f-389e-4d16-a76c-0186ff51d6f7",
   "metadata": {
    "tags": []
   },
   "outputs": [
    {
     "name": "stdout",
     "output_type": "stream",
     "text": [
      "[1. 0. 0. 0. 0. 1. 0. 1. 0. 0. 0. 1. 0. 1. 0. 1. 0. 0.]\n",
      "team_1: ['PlayerA', 'PlayerF']\n",
      "team_3: ['PlayerB', 'PlayerD']\n",
      "team_2: ['PlayerC', 'PlayerE']\n"
     ]
    }
   ],
   "source": [
    "sampler = BackendSampler(\n",
    "    backend=BraketProvider().get_backend(\"SV1\"),\n",
    "    options={\"shots\": 3},\n",
    ")\n",
    "# プレイヤー名テーブル\n",
    "players=[\"PlayerA\",\"PlayerB\",\"PlayerC\",\"PlayerD\",\"PlayerE\",\"PlayerF\"]\n",
    "\n",
    "# マッチングに使用するパラメータを定義\n",
    "# 実際の数値は桁や単位がバラバラなことが多いため、標準化や重みづけを行う必要がある。\n",
    "# ダメージテーブル\n",
    "damage_rate = [1, 2, 3, 4, 5, 6]\n",
    "# 射程\n",
    "effective_range = [1, 2, 3, 4, 5, 6]\n",
    "# 速度\n",
    "speed = [10, 10, 10, 10, 10, 10]\n",
    "# レート\n",
    "rating = [10, 9, 3, 2, 8, 5]\n",
    "\n",
    "#プレイヤー数\n",
    "N = len(players)\n",
    "#チームの数\n",
    "K = 3\n",
    "\n",
    "# ペナルティ係数定義\n",
    "lam = 500\n",
    "x = Array.create(name='x', shape=(N,K), vartype='BINARY')\n",
    "\n",
    "# コスト関数定義\n",
    "damage_rate_cost = 1/K * sum((sum(damage_rate[i]*x[i,k] for i in range(N)) - 1/K * sum(sum(damage_rate[i]*x[i,k] for i in range(N)) for k in range(K)))**2 for k in range(K))\n",
    "effective_range_cost = 1/K * sum((sum(effective_range[i]*x[i,k] for i in range(N)) - 1/K * sum(sum(effective_range[i]*x[i,k] for i in range(N)) for k in range(K)))**2 for k in range(K))\n",
    "speed_cost = 1/K * sum((sum(speed[i]*x[i,k] for i in range(N)) - 1/K * sum(sum(speed[i]*x[i,k] for i in range(N)) for k in range(K)))**2 for k in range(K))\n",
    "rating_cost = 1/K * sum((sum(rating[i]*x[i,k] for i in range(N)) - 1/K * sum(sum(rating[i]*x[i,k] for i in range(N)) for k in range(K)))**2 for k in range(K))\n",
    "\n",
    "# ペナルティ関数定義\n",
    "penalty = lam * sum((sum(x[i,k] for k in range(K)) -1 )**2 for i in range(N))\n",
    "\n",
    "# qubo作成\n",
    "y = damage_rate_cost + effective_range_cost + speed_cost + rating_cost + penalty\n",
    "model = y.compile()\n",
    "quadratic, offset = model.to_qubo()\n",
    "\n",
    "# 量子ビット定義\n",
    "qubo = QuadraticProgram()\n",
    "for i in range(N):\n",
    "    for j in range(K):\n",
    "        qubo.binary_var(\"x[{}][{}]\".format(i, j))\n",
    "\n",
    "# qiskit solve\n",
    "qubo.minimize(quadratic=quadratic)\n",
    "algorithm_globals.random_seed = 10598\n",
    "qaoa_mes = QAOA(sampler=sampler, optimizer=COBYLA(), initial_point=[0.0, 0.0])\n",
    "exact_mes = NumPyMinimumEigensolver()\n",
    "qaoa = MinimumEigenOptimizer(qaoa_mes)  # using QAOA\n",
    "exact = MinimumEigenOptimizer(\n",
    "    exact_mes\n",
    ")  # using the exact classical numpy minimum eigen solver\n",
    "exact_result = exact.solve(qubo)\n",
    "result = exact_result.x\n",
    "\n",
    "# 各チームのメンバーのリストを作成\n",
    "players_in_team = defaultdict(list)\n",
    "for i, player in enumerate(result):\n",
    "    team_name = f\"team_{i % K + 1}\"\n",
    "    if player == 1.0:\n",
    "        player=players[int(i/K)]\n",
    "        players_in_team[team_name].append(player)\n",
    "\n",
    "# 結果を出力\n",
    "for team_name, players in players_in_team.items():\n",
    "    print(f\"{team_name}: {players}\")"
   ]
  }
 ],
 "metadata": {
  "kernelspec": {
   "display_name": "conda_braket",
   "language": "python",
   "name": "conda_braket"
  },
  "language_info": {
   "codemirror_mode": {
    "name": "ipython",
    "version": 3
   },
   "file_extension": ".py",
   "mimetype": "text/x-python",
   "name": "python",
   "nbconvert_exporter": "python",
   "pygments_lexer": "ipython3",
   "version": "3.10.14"
  }
 },
 "nbformat": 4,
 "nbformat_minor": 5
}
